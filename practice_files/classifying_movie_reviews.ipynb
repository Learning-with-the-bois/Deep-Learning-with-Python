{
  "cells": [
    {
      "cell_type": "markdown",
      "metadata": {
        "id": "aTWzLCcczQwf"
      },
      "source": [
        "# Classifying movie reviews\n",
        "**A binary classification example**\n",
        "\n",
        "Two-class classification, or binary classification, may be the most widely applied kind of machine-learning problem.\n",
        "In this example, movie reviews will be classified as positive or negative, based on the text content of the reviews."
      ]
    },
    {
      "cell_type": "markdown",
      "metadata": {
        "id": "TLZWnILezQwk"
      },
      "source": [
        "## The IMDB dataset\n",
        "You’ll work with the [IMDB dataset](https://www.imdb.com/): a set of 50,000 highly polarized reviews from the Internet Movie Database. They’re split into 25,000 reviews for training and 25,000 reviews for testing, each set consisting of 50% negative and 50% positive reviews."
      ]
    },
    {
      "cell_type": "code",
      "execution_count": 1,
      "metadata": {
        "id": "69QNMZDGzQwm"
      },
      "outputs": [],
      "source": [
        "from keras.datasets import imdb\n",
        "(train_data, train_labels),(test_data,test_labels) = imdb.load_data(num_words=10000)"
      ]
    },
    {
      "cell_type": "markdown",
      "metadata": {
        "id": "le-mZDqXzQwo"
      },
      "source": [
        "* `num_words=10000` means you'll only keep the top 10,000 most frequently ocurring words in the training data. Rare words will be discarded.\n",
        "\n",
        "* `train_data` an `test_data` are lists of reviews. Each review is a list of word indices ranked by frequency.\n",
        "\n",
        "* `train_labels` and `test_labels` are lists of 0s and 1s,where 0 stands for *negative* and 1 for *positive*."
      ]
    },
    {
      "cell_type": "markdown",
      "metadata": {
        "id": "Og7KPQDCzQwp"
      },
      "source": [
        "## Preparing the data\n",
        "You have to turn the lists into tensors. There are 2 ways to do that:\n",
        "* Pad the lists so that they all have the same length, turn them into an integer tensor of shape `(samples, word_indices)`, and use as the first layer in the network a layer capable of handling such integer tensors. (The *Embedding* layer).\n",
        "* One-hot encode the lists and turn them into vectors of 0s and 1s. This would mean, for instance, turning the sequence `[3,5]` into a 10,000-dimentional vector that would be all 0s except for `[3,5]`. The use a *Dense* layer as first layer, capable of handling floating-point vector data."
      ]
    },
    {
      "cell_type": "code",
      "execution_count": 2,
      "metadata": {
        "id": "l4kdtPyyzQwq"
      },
      "outputs": [],
      "source": [
        "import numpy as np\n",
        "def vectorize_sequences(sequences, dimension=10000):\n",
        "    results = np.zeros((len(sequences),dimension))\n",
        "    for i, sequence in enumerate(sequences):\n",
        "        results[i,sequence]=1.\n",
        "    return results\n",
        "x_train = vectorize_sequences(train_data)\n",
        "x_test = vectorize_sequences(test_data)"
      ]
    },
    {
      "cell_type": "code",
      "execution_count": 3,
      "metadata": {
        "colab": {
          "base_uri": "https://localhost:8080/"
        },
        "id": "seAfWL1szQwq",
        "outputId": "195271d7-fd66-4037-d9a6-509c25507350"
      },
      "outputs": [
        {
          "output_type": "execute_result",
          "data": {
            "text/plain": [
              "array([0., 1., 1., ..., 0., 0., 0.])"
            ]
          },
          "metadata": {},
          "execution_count": 3
        }
      ],
      "source": [
        "x_train[0]"
      ]
    },
    {
      "cell_type": "code",
      "execution_count": 4,
      "metadata": {
        "colab": {
          "base_uri": "https://localhost:8080/"
        },
        "id": "-1cKCpMbzQwr",
        "outputId": "0413b879-55df-497f-8125-ff6a0a7652b3"
      },
      "outputs": [
        {
          "output_type": "execute_result",
          "data": {
            "text/plain": [
              "array([0., 1., 1., ..., 0., 0., 0.])"
            ]
          },
          "metadata": {},
          "execution_count": 4
        }
      ],
      "source": [
        "x_test[0]"
      ]
    },
    {
      "cell_type": "code",
      "execution_count": 5,
      "metadata": {
        "id": "Dzji8WY5zQwr"
      },
      "outputs": [],
      "source": [
        "y_train = np.asarray(train_labels).astype('float32')\n",
        "y_test = np.asarray(test_labels).astype('float32')"
      ]
    },
    {
      "cell_type": "markdown",
      "metadata": {
        "id": "4WjwUtNNzQws"
      },
      "source": [
        "## The model definition\n",
        "There are two key architecture decisions to be made about such a stack of Dense layers:\n",
        "* How many layers to use\n",
        "* How many hidden units to choose for each layer\n",
        "\n",
        "\n",
        "**Hidden unit:** Dimension in the representation space of the layer.\n",
        "* *Intuitively ->* \"How much freedom you're allowing the network to have when learning internal representations.\"\n",
        "\n",
        "Having more hidden units allows the network to learn more complex representations, but it makes the netwoek mor computotionally expensive and may lead to learning unwanted patterns."
      ]
    },
    {
      "cell_type": "code",
      "execution_count": 6,
      "metadata": {
        "id": "_bVLLoXpzQwt"
      },
      "outputs": [],
      "source": [
        "from keras import models\n",
        "from keras import layers\n",
        "model = models.Sequential()\n",
        "model.add(layers.Dense(16, activation=\"relu\", input_shape=(10000,)))\n",
        "model.add(layers.Dense(16, activation=\"relu\"))\n",
        "model.add(layers.Dense(1,activation=\"sigmoid\"))"
      ]
    },
    {
      "cell_type": "markdown",
      "metadata": {
        "id": "lgjzKuthzQwt"
      },
      "source": [
        "## Compiling the model\n",
        "Finally, you need to choose a **loss function** and an **optimizer**.\n",
        "In this case, *binary_crossentropy* is the best option as **loss function**, because we are dealing with output probabilities. **Crossentropy** is a quantity from the field of Information THeory that measures the distance between probability distributions."
      ]
    },
    {
      "cell_type": "code",
      "execution_count": 7,
      "metadata": {
        "id": "NUwYGo9DzQwu"
      },
      "outputs": [],
      "source": [
        "model.compile(optimizer=\"rmsprop\",\n",
        "              loss=\"binary_crossentropy\",\n",
        "              metrics=[\"accuracy\"])"
      ]
    },
    {
      "cell_type": "markdown",
      "metadata": {
        "id": "0Dv_QcfuzQwu"
      },
      "source": [
        "### Custom Optmizer, losses and metrics\n",
        "You can pass and optimizer class instance as the `oṕtimizer` argument, and  pass function objects as the `loss` or `metrics` argument."
      ]
    },
    {
      "cell_type": "code",
      "execution_count": 7,
      "metadata": {
        "id": "Aaguclt0zQwv"
      },
      "outputs": [],
      "source": [
        "from keras import optimizers\n",
        "from keras import losses\n",
        "from keras import metrics\n",
        "\n",
        "customOptimizer = optimizer=optimizers.RMSprop(lr=0.001)\n",
        "customLoss = losses.binary_crossentropy\n",
        "customMetric = [metrics.binary_accuracy]\n",
        "\n",
        "model.compile(optimizer=customOptimizer,\n",
        "loss=customLoss,\n",
        "metrics=customMetric)"
      ]
    },
    {
      "cell_type": "markdown",
      "metadata": {
        "id": "Z38zOWZ1zQwv"
      },
      "source": [
        "## Training the model\n",
        "In order to test the model you need to create a validation set by setting apart 10,000 samples from the original training data."
      ]
    },
    {
      "cell_type": "code",
      "execution_count": 8,
      "metadata": {
        "id": "ITJaGNqNzQwv"
      },
      "outputs": [],
      "source": [
        "x_training_test = x_train[:10000]\n",
        "x_train_values = x_train[10000:]\n",
        "\n",
        "y_training_test = y_train[:10000]\n",
        "y_train_values = y_train[10000:]"
      ]
    },
    {
      "cell_type": "markdown",
      "metadata": {
        "id": "hXftwu3LzQww"
      },
      "source": [
        "We'll be training the model for 20 epochs, in mini-batches of 512 samples. At the same time, we'll monitor loss and accuracy on the 10,000 samples setted appart."
      ]
    },
    {
      "cell_type": "code",
      "execution_count": 9,
      "metadata": {
        "colab": {
          "base_uri": "https://localhost:8080/"
        },
        "id": "vqo-PFngzQww",
        "outputId": "ba154b9d-2689-41ad-fc5a-827e5ec4118d"
      },
      "outputs": [
        {
          "output_type": "stream",
          "name": "stdout",
          "text": [
            "Epoch 1/20\n",
            "30/30 [==============================] - 3s 81ms/step - loss: 0.5511 - accuracy: 0.7610 - val_loss: 0.4416 - val_accuracy: 0.8156\n",
            "Epoch 2/20\n",
            "30/30 [==============================] - 1s 38ms/step - loss: 0.3363 - accuracy: 0.8895 - val_loss: 0.3147 - val_accuracy: 0.8862\n",
            "Epoch 3/20\n",
            "30/30 [==============================] - 1s 40ms/step - loss: 0.2493 - accuracy: 0.9171 - val_loss: 0.3309 - val_accuracy: 0.8625\n",
            "Epoch 4/20\n",
            "30/30 [==============================] - 1s 37ms/step - loss: 0.2001 - accuracy: 0.9326 - val_loss: 0.2762 - val_accuracy: 0.8895\n",
            "Epoch 5/20\n",
            "30/30 [==============================] - 1s 39ms/step - loss: 0.1648 - accuracy: 0.9466 - val_loss: 0.2813 - val_accuracy: 0.8837\n",
            "Epoch 6/20\n",
            "30/30 [==============================] - 1s 37ms/step - loss: 0.1411 - accuracy: 0.9541 - val_loss: 0.2858 - val_accuracy: 0.8865\n",
            "Epoch 7/20\n",
            "30/30 [==============================] - 1s 39ms/step - loss: 0.1190 - accuracy: 0.9626 - val_loss: 0.3008 - val_accuracy: 0.8834\n",
            "Epoch 8/20\n",
            "30/30 [==============================] - 1s 38ms/step - loss: 0.1060 - accuracy: 0.9669 - val_loss: 0.3450 - val_accuracy: 0.8718\n",
            "Epoch 9/20\n",
            "30/30 [==============================] - 1s 39ms/step - loss: 0.0912 - accuracy: 0.9725 - val_loss: 0.3262 - val_accuracy: 0.8797\n",
            "Epoch 10/20\n",
            "30/30 [==============================] - 2s 61ms/step - loss: 0.0756 - accuracy: 0.9797 - val_loss: 0.3418 - val_accuracy: 0.8792\n",
            "Epoch 11/20\n",
            "30/30 [==============================] - 2s 54ms/step - loss: 0.0664 - accuracy: 0.9808 - val_loss: 0.3907 - val_accuracy: 0.8709\n",
            "Epoch 12/20\n",
            "30/30 [==============================] - 1s 40ms/step - loss: 0.0556 - accuracy: 0.9859 - val_loss: 0.3940 - val_accuracy: 0.8758\n",
            "Epoch 13/20\n",
            "30/30 [==============================] - 1s 39ms/step - loss: 0.0491 - accuracy: 0.9895 - val_loss: 0.4106 - val_accuracy: 0.8742\n",
            "Epoch 14/20\n",
            "30/30 [==============================] - 1s 40ms/step - loss: 0.0444 - accuracy: 0.9892 - val_loss: 0.4322 - val_accuracy: 0.8731\n",
            "Epoch 15/20\n",
            "30/30 [==============================] - 1s 40ms/step - loss: 0.0320 - accuracy: 0.9949 - val_loss: 0.5525 - val_accuracy: 0.8562\n",
            "Epoch 16/20\n",
            "30/30 [==============================] - 1s 37ms/step - loss: 0.0318 - accuracy: 0.9938 - val_loss: 0.4734 - val_accuracy: 0.8730\n",
            "Epoch 17/20\n",
            "30/30 [==============================] - 1s 40ms/step - loss: 0.0260 - accuracy: 0.9951 - val_loss: 0.6249 - val_accuracy: 0.8524\n",
            "Epoch 18/20\n",
            "30/30 [==============================] - 1s 40ms/step - loss: 0.0221 - accuracy: 0.9959 - val_loss: 0.5287 - val_accuracy: 0.8687\n",
            "Epoch 19/20\n",
            "30/30 [==============================] - 1s 38ms/step - loss: 0.0208 - accuracy: 0.9965 - val_loss: 0.5925 - val_accuracy: 0.8641\n",
            "Epoch 20/20\n",
            "30/30 [==============================] - 2s 51ms/step - loss: 0.0205 - accuracy: 0.9967 - val_loss: 0.5607 - val_accuracy: 0.8706\n"
          ]
        }
      ],
      "source": [
        "history = model.fit(x_train_values,\n",
        "                    y_train_values,\n",
        "                    epochs=20,\n",
        "                    batch_size=512,\n",
        "                    validation_data=(x_training_test,y_training_test))"
      ]
    },
    {
      "cell_type": "markdown",
      "metadata": {
        "id": "NZh4jnm4zQww"
      },
      "source": [
        "## Plotting the accuracy and loss\n",
        "Calling `model.fit()` returns a `History` object, which has a member `history`, which is a dictionary containing the following keys:\n",
        "\n",
        "* `acc`: Training accuracy\n",
        "* `val_acc`: Validation accuracy\n",
        "* `loss`: Training loss\n",
        "* `val_loss`: Validation loss\n",
        "\n",
        "### Loss graph"
      ]
    },
    {
      "cell_type": "code",
      "execution_count": 10,
      "metadata": {
        "colab": {
          "base_uri": "https://localhost:8080/",
          "height": 295
        },
        "id": "Q2vFJ8xgzQwx",
        "outputId": "61be3690-42b1-4c21-d165-f4bbda9a896f"
      },
      "outputs": [
        {
          "output_type": "display_data",
          "data": {
            "text/plain": [
              "<Figure size 432x288 with 1 Axes>"
            ],
            "image/png": "[encoded data removed]"
          },
          "metadata": {
            "needs_background": "light"
          }
        }
      ],
      "source": [
        "import matplotlib.pyplot as plt\n",
        "\n",
        "history_dict = history.history\n",
        "loss_values = history_dict['loss']\n",
        "val_loss_values = history_dict['val_loss']\n",
        "\n",
        "epochs = range(1, 20+1)\n",
        "\n",
        "plt.plot(epochs,loss_values,'bo',label='Training Loss')\n",
        "plt.plot(epochs,val_loss_values, 'b', label= 'Validation Loss')\n",
        "plt.title('Training and validation loss')\n",
        "plt.xlabel(\"Epochs\")\n",
        "plt.ylabel('Loss')\n",
        "plt.legend()\n",
        "\n",
        "plt.show()"
      ]
    },
    {
      "cell_type": "markdown",
      "metadata": {
        "id": "o4mRDK2zzQwx"
      },
      "source": [
        "### Accuracy graph"
      ]
    },
    {
      "cell_type": "code",
      "execution_count": 13,
      "metadata": {
        "colab": {
          "base_uri": "https://localhost:8080/",
          "height": 295
        },
        "id": "zlhIoBvpzQwy",
        "outputId": "0ca5e005-b4c9-477e-8590-fd3f9c556a31"
      },
      "outputs": [
        {
          "output_type": "display_data",
          "data": {
            "text/plain": [
              "<Figure size 432x288 with 1 Axes>"
            ],
            "image/png": "[encoded data removed]"
          },
          "metadata": {
            "needs_background": "light"
          }
        }
      ],
      "source": [
        "plt.clf()\n",
        "acc_values = history_dict['accuracy']\n",
        "val_acc_values = history_dict['val_accuracy']\n",
        "\n",
        "plt.plot(epochs,acc_values,'bo',label=\"Training accuracy\")\n",
        "plt.plot(epochs,val_acc_values,'b',label=\"Validation accuracy\")\n",
        "plt.title(\"Training and validation accuracy\")\n",
        "plt.xlabel('Epochs')\n",
        "plt.ylabel('Loss')\n",
        "plt.legend()\n",
        "\n",
        "plt.show()"
      ]
    },
    {
      "cell_type": "markdown",
      "source": [
        "After 2 epochs, the results are optimized"
      ],
      "metadata": {
        "id": "3lsSDIRx2KUH"
      }
    },
    {
      "cell_type": "markdown",
      "metadata": {
        "id": "GQwukKPszQwy"
      },
      "source": [
        "## Evaluating the model"
      ]
    },
    {
      "cell_type": "code",
      "execution_count": 14,
      "metadata": {
        "colab": {
          "base_uri": "https://localhost:8080/"
        },
        "id": "a4Awoo-TzQwy",
        "outputId": "a3c2aa55-cbaa-4709-82ab-3c1478babfa6"
      },
      "outputs": [
        {
          "output_type": "stream",
          "name": "stdout",
          "text": [
            "782/782 [==============================] - 2s 2ms/step - loss: 0.6063 - accuracy: 0.8576\n"
          ]
        },
        {
          "output_type": "execute_result",
          "data": {
            "text/plain": [
              "[0.606295108795166, 0.8575999736785889]"
            ]
          },
          "metadata": {},
          "execution_count": 14
        }
      ],
      "source": [
        "results = model.evaluate(x_test,y_test)\n",
        "results"
      ]
    },
    {
      "cell_type": "code",
      "source": [
        "print(history_dict.keys())"
      ],
      "metadata": {
        "colab": {
          "base_uri": "https://localhost:8080/"
        },
        "id": "bqDgle-tz6e0",
        "outputId": "cd87cf90-08cf-4506-90b3-6cd128f51f38"
      },
      "execution_count": 12,
      "outputs": [
        {
          "output_type": "stream",
          "name": "stdout",
          "text": [
            "dict_keys(['loss', 'accuracy', 'val_loss', 'val_accuracy'])\n"
          ]
        }
      ]
    },
    {
      "cell_type": "markdown",
      "source": [
        "Example with only 4 epochs, and thee results are better due to avoiding *overfitting*."
      ],
      "metadata": {
        "id": "CTQ5jzj_2GPJ"
      }
    },
    {
      "cell_type": "code",
      "source": [
        "model = models.Sequential()\n",
        "model.add(layers.Dense(16, activation='relu', input_shape=(10000,)))\n",
        "model.add(layers.Dense(16, activation='relu'))\n",
        "model.add(layers.Dense(1, activation='sigmoid'))\n",
        "model.compile(optimizer='rmsprop',\n",
        "loss='binary_crossentropy',\n",
        "metrics=['accuracy'])\n",
        "model.fit(x_train, y_train, epochs=4, batch_size=512)\n",
        "results = model.evaluate(x_test, y_test)\n",
        "\n",
        "results"
      ],
      "metadata": {
        "colab": {
          "base_uri": "https://localhost:8080/"
        },
        "id": "imVk7yhG1MLS",
        "outputId": "259058d3-77f4-473c-f89a-ccc127b641df"
      },
      "execution_count": 17,
      "outputs": [
        {
          "output_type": "stream",
          "name": "stdout",
          "text": [
            "Epoch 1/4\n",
            "49/49 [==============================] - 2s 29ms/step - loss: 0.4714 - accuracy: 0.8100\n",
            "Epoch 2/4\n",
            "49/49 [==============================] - 1s 29ms/step - loss: 0.2776 - accuracy: 0.9012\n",
            "Epoch 3/4\n",
            "49/49 [==============================] - 1s 28ms/step - loss: 0.2162 - accuracy: 0.9226\n",
            "Epoch 4/4\n",
            "49/49 [==============================] - 1s 28ms/step - loss: 0.1777 - accuracy: 0.9359\n",
            "782/782 [==============================] - 3s 3ms/step - loss: 0.3139 - accuracy: 0.8760\n"
          ]
        },
        {
          "output_type": "execute_result",
          "data": {
            "text/plain": [
              "[0.3138647973537445, 0.8759599924087524]"
            ]
          },
          "metadata": {},
          "execution_count": 17
        }
      ]
    },
    {
      "cell_type": "markdown",
      "source": [
        "## Generating new predictions"
      ],
      "metadata": {
        "id": "S3-BSKBF52l2"
      }
    },
    {
      "cell_type": "code",
      "source": [
        "model.predict(x_test)"
      ],
      "metadata": {
        "id": "BhrA-wuC5zLy",
        "outputId": "8bac8e61-3614-45a7-b35c-52c010f50f45",
        "colab": {
          "base_uri": "https://localhost:8080/"
        }
      },
      "execution_count": 18,
      "outputs": [
        {
          "output_type": "stream",
          "name": "stdout",
          "text": [
            "782/782 [==============================] - 3s 4ms/step\n"
          ]
        },
        {
          "output_type": "execute_result",
          "data": {
            "text/plain": [
              "array([[0.22121923],\n",
              "       [0.9999473 ],\n",
              "       [0.97171867],\n",
              "       ...,\n",
              "       [0.16254824],\n",
              "       [0.11131062],\n",
              "       [0.8110411 ]], dtype=float32)"
            ]
          },
          "metadata": {},
          "execution_count": 18
        }
      ]
    }
  ],
  "metadata": {
    "kernelspec": {
      "display_name": "Python 3",
      "language": "python",
      "name": "python3"
    },
    "language_info": {
      "name": "python",
      "version": "3.10.6"
    },
    "orig_nbformat": 4,
    "colab": {
      "provenance": []
    }
  },
  "nbformat": 4,
  "nbformat_minor": 0
}